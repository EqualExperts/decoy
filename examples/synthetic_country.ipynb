{
 "cells": [
  {
   "cell_type": "code",
   "execution_count": 1,
   "id": "d433e35f-a450-4e28-a96d-134be57918a2",
   "metadata": {},
   "outputs": [
    {
     "data": {
      "text/html": [
       "<table border=\"1\" class=\"dataframe\">\n",
       "  <thead>\n",
       "    <tr style=\"text-align: right;\">\n",
       "      <th></th>\n",
       "      <th>Count</th>\n",
       "    </tr>\n",
       "  </thead>\n",
       "  <tbody>\n",
       "  </tbody>\n",
       "</table>"
      ],
      "text/plain": [
       "Empty DataFrame\n",
       "Columns: [Count]\n",
       "Index: []"
      ]
     },
     "metadata": {},
     "output_type": "display_data"
    }
   ],
   "source": [
    "-- scaling macro because we can't have constants in sql\n",
    "CREATE OR REPLACE MACRO per_county(multiple) AS multiple * 500;"
   ]
  },
  {
   "cell_type": "code",
   "execution_count": 1,
   "id": "72ad197f-5b5d-4596-915e-1c659c855fc0",
   "metadata": {},
   "outputs": [
    {
     "data": {
      "text/html": [
       "<table border=\"1\" class=\"dataframe\">\n",
       "  <thead>\n",
       "    <tr style=\"text-align: right;\">\n",
       "      <th></th>\n",
       "      <th>id</th>\n",
       "      <th>country</th>\n",
       "    </tr>\n",
       "  </thead>\n",
       "  <tbody>\n",
       "    <tr>\n",
       "      <th>0</th>\n",
       "      <td>1</td>\n",
       "      <td>GB-ENG</td>\n",
       "    </tr>\n",
       "    <tr>\n",
       "      <th>1</th>\n",
       "      <td>2</td>\n",
       "      <td>GB-NIR</td>\n",
       "    </tr>\n",
       "    <tr>\n",
       "      <th>2</th>\n",
       "      <td>3</td>\n",
       "      <td>GB-SCT</td>\n",
       "    </tr>\n",
       "    <tr>\n",
       "      <th>3</th>\n",
       "      <td>4</td>\n",
       "      <td>GB-WAL</td>\n",
       "    </tr>\n",
       "  </tbody>\n",
       "</table>"
      ],
      "text/plain": [
       "   id country\n",
       "0   1  GB-ENG\n",
       "1   2  GB-NIR\n",
       "2   3  GB-SCT\n",
       "3   4  GB-WAL"
      ]
     },
     "metadata": {},
     "output_type": "display_data"
    }
   ],
   "source": [
    "-- Create a countries table\n",
    "-- https://www.gov.uk/government/publications/open-standards-for-government/country-codes\n",
    "CREATE OR REPLACE TABLE countries AS (\n",
    "SELECT \n",
    "    UNNEST(range(1,5)) as id, \n",
    "    UNNEST(['GB-ENG', 'GB-NIR','GB-SCT', 'GB-WAL']) as country\n",
    ");\n",
    "SELECT * FROM countries;"
   ]
  },
  {
   "cell_type": "code",
   "execution_count": 2,
   "id": "2a2d6ce9-136d-4658-8599-8a0eecd3621c",
   "metadata": {},
   "outputs": [
    {
     "data": {
      "text/html": [
       "<table border=\"1\" class=\"dataframe\">\n",
       "  <thead>\n",
       "    <tr style=\"text-align: right;\">\n",
       "      <th></th>\n",
       "      <th>count_star()</th>\n",
       "    </tr>\n",
       "  </thead>\n",
       "  <tbody>\n",
       "    <tr>\n",
       "      <th>0</th>\n",
       "      <td>103</td>\n",
       "    </tr>\n",
       "  </tbody>\n",
       "</table>"
      ],
      "text/plain": [
       "   count_star()\n",
       "0           103"
      ]
     },
     "metadata": {},
     "output_type": "display_data"
    }
   ],
   "source": [
    "-- Create counties table\n",
    "CREATE OR REPLACE TABLE counties AS (\n",
    "    SELECT \n",
    "        range+1 as id, \n",
    "        oversample('countries', 'id') as country_id, \n",
    "        mimesis_address_city() as county_name, \n",
    "        '' as prefix \n",
    "FROM range(per_county(2)));\n",
    "\n",
    "-- maybe add pre, post changes like east, west, -shire etc.\n",
    "-- UPDATE counties SET prefix = ucase(concat(substr(name, 1,1), substr(name, 3,1)));\n",
    "UPDATE counties SET prefix = substr(county_name, 1,2);\n",
    "UPDATE counties SET prefix = concat(substr(string_split(county_name, ' ')[1], 1, 1), substr(string_split(county_name, ' ')[2], 1, 1)) WHERE county_name LIKE '% %';\n",
    "UPDATE counties SET prefix = concat(substr(county_name, 1,1), substr(county_name, -1, 1)) WHERE prefix in (SELECT prefix FROM counties GROUP BY prefix HAVING (COUNT(*) > 1));\n",
    "-- TODO: Update further duplicates from a window function that makes it look like S1A, S2A, S3A ...\n",
    "\n",
    "UPDATE  counties SET prefix = ucase(prefix);\n",
    "\n",
    "-- drop duplicated prefixes\n",
    "DELETE FROM counties WHERE prefix IN (\n",
    "    SELECT prefix\n",
    "    FROM counties\n",
    "    GROUP BY prefix\n",
    "    HAVING (COUNT(*) > 1));\n",
    "\n",
    "SELECT count(*) FROM counties;"
   ]
  },
  {
   "cell_type": "code",
   "execution_count": 4,
   "id": "e734971a-f6ad-4717-8626-f8f5f074442b",
   "metadata": {},
   "outputs": [
    {
     "data": {
      "text/html": [
       "<table border=\"1\" class=\"dataframe\">\n",
       "  <thead>\n",
       "    <tr style=\"text-align: right;\">\n",
       "      <th></th>\n",
       "      <th>count_star()</th>\n",
       "    </tr>\n",
       "  </thead>\n",
       "  <tbody>\n",
       "    <tr>\n",
       "      <th>0</th>\n",
       "      <td>5000</td>\n",
       "    </tr>\n",
       "  </tbody>\n",
       "</table>"
      ],
      "text/plain": [
       "   count_star()\n",
       "0          5000"
      ]
     },
     "metadata": {},
     "output_type": "display_data"
    }
   ],
   "source": [
    "CREATE OR REPLACE SEQUENCE town_seq START 1;\n",
    "CREATE OR REPLACE TEMP TABLE tmp_county_postcodes AS (SELECT range+1 as id, oversample('counties', 'id') as county_id from range(per_county(10)));\n",
    "CREATE OR REPLACE TABLE county_postcodes AS (SELECT id, county_id, row_number() OVER (PARTITION BY county_id) as division FROM tmp_county_postcodes);\n",
    "\n",
    "CREATE OR REPLACE TABLE towns as (\n",
    "    SELECT\n",
    "        nextval('town_seq') as id,\n",
    "        concat(prefix, division) as outcode, \n",
    "        faker_city() as town_name,\n",
    "        county_id\n",
    "    FROM county_postcodes cpo \n",
    "    JOIN counties ON cpo.county_id = counties.id \n",
    "    JOIN countries on counties.country_id = countries.id);\n",
    "\n",
    "select count(*) from towns;"
   ]
  },
  {
   "cell_type": "code",
   "execution_count": 5,
   "id": "d19f5b1b-49cb-45e5-b088-7e4936ba1414",
   "metadata": {},
   "outputs": [
    {
     "data": {
      "text/html": [
       "<table border=\"1\" class=\"dataframe\">\n",
       "  <thead>\n",
       "    <tr style=\"text-align: right;\">\n",
       "      <th></th>\n",
       "      <th>Success</th>\n",
       "    </tr>\n",
       "  </thead>\n",
       "  <tbody>\n",
       "  </tbody>\n",
       "</table>"
      ],
      "text/plain": [
       "Empty DataFrame\n",
       "Columns: [Success]\n",
       "Index: []"
      ]
     },
     "metadata": {},
     "output_type": "display_data"
    }
   ],
   "source": [
    "CREATE OR REPLACE SEQUENCE incode_seq START 1;\n",
    "CREATE OR REPLACE TEMP TABLE tmp_incodes AS (\n",
    "    SELECT oversample('towns', 'id') as town_id FROM range(per_county(200)) ORDER BY town_id\n",
    ");\n",
    "\n",
    "CREATE OR REPLACE TABLE incodes_sector AS (\n",
    "    SELECT \n",
    "        nextval('incode_seq') as id,\n",
    "        town_id, \n",
    "        row_number() OVER (PARTITION BY town_id) as incode_division \n",
    "    FROM incodes\n",
    ");\n",
    "\n",
    "CREATE OR REPLACE TABLE incodes_street AS (\n",
    "    SELECT\n",
    "        range as id,\n",
    "        concat(mimesis_address_street_name(), ' ', faker_street_suffix()) as street_name,\n",
    "        oversample('incodes_sector', 'id') as sector_id,\n",
    "        xeger('A[A-Z]{1}') as incode_street\n",
    "    FROM range(per_county(1000))\n",
    ");\n",
    "\n",
    "CREATE OR REPLACE TABLE streets AS (\n",
    "    SELECT ist.id, town_id, concat(incode_division, incode_street) as incode, street_name FROM incodes_sector ise JOIN incodes_street as ist ON ist.sector_id = ise.id\n",
    ");\n",
    "\n",
    "SELECT * FROM streets ORDER BY town_id, incode LIMIT 10;\n",
    "\n",
    "DROP TABLE IF EXISTS incodes_sector;\n",
    "DROP TABLE IF EXISTS incodes_street;\n"
   ]
  },
  {
   "cell_type": "code",
   "execution_count": 6,
   "id": "3ba86307-85af-431a-84d7-4700e5bfd22d",
   "metadata": {},
   "outputs": [
    {
     "data": {
      "text/html": [
       "<table border=\"1\" class=\"dataframe\">\n",
       "  <thead>\n",
       "    <tr style=\"text-align: right;\">\n",
       "      <th></th>\n",
       "      <th>Count</th>\n",
       "    </tr>\n",
       "  </thead>\n",
       "  <tbody>\n",
       "    <tr>\n",
       "      <th>0</th>\n",
       "      <td>15000000</td>\n",
       "    </tr>\n",
       "  </tbody>\n",
       "</table>"
      ],
      "text/plain": [
       "      Count\n",
       "0  15000000"
      ]
     },
     "metadata": {},
     "output_type": "display_data"
    }
   ],
   "source": [
    "CREATE OR REPLACE SEQUENCE address_seq START 1;\n",
    "CREATE OR REPLACE TEMP TABLE tmp_addresses AS (\n",
    "    SELECT oversample('streets', 'id') as street_id FROM range(per_county(30000)) ORDER BY street_id\n",
    ");\n",
    "\n",
    "CREATE OR REPLACE TABLE addresses AS (\n",
    "    SELECT \n",
    "        nextval('address_seq') as id,\n",
    "        street_id, \n",
    "        row_number() OVER (PARTITION BY street_id) as street_number \n",
    "    FROM tmp_addresses\n",
    ");\n",
    "\n"
   ]
  },
  {
   "cell_type": "code",
   "execution_count": 7,
   "id": "c353cd77-d19b-44d3-97ad-3c65b635ef83",
   "metadata": {},
   "outputs": [
    {
     "data": {
      "text/html": [
       "<table border=\"1\" class=\"dataframe\">\n",
       "  <thead>\n",
       "    <tr style=\"text-align: right;\">\n",
       "      <th></th>\n",
       "      <th>Count</th>\n",
       "    </tr>\n",
       "  </thead>\n",
       "  <tbody>\n",
       "    <tr>\n",
       "      <th>0</th>\n",
       "      <td>15000000</td>\n",
       "    </tr>\n",
       "  </tbody>\n",
       "</table>"
      ],
      "text/plain": [
       "      Count\n",
       "0  15000000"
      ]
     },
     "metadata": {},
     "output_type": "display_data"
    }
   ],
   "source": [
    "CREATE OR REPLACE TABLE families AS (\n",
    "    SELECT \n",
    "        id,\n",
    "        id as address_id,\n",
    "        faker_last_name() as family_name,\n",
    "    from addresses);"
   ]
  },
  {
   "cell_type": "code",
   "execution_count": 8,
   "id": "ac9ecaed-0763-4d74-9c6c-5942e30347e7",
   "metadata": {},
   "outputs": [
    {
     "data": {
      "text/html": [
       "<table border=\"1\" class=\"dataframe\">\n",
       "  <thead>\n",
       "    <tr style=\"text-align: right;\">\n",
       "      <th></th>\n",
       "      <th>Count</th>\n",
       "    </tr>\n",
       "  </thead>\n",
       "  <tbody>\n",
       "    <tr>\n",
       "      <th>0</th>\n",
       "      <td>50000000</td>\n",
       "    </tr>\n",
       "  </tbody>\n",
       "</table>"
      ],
      "text/plain": [
       "      Count\n",
       "0  50000000"
      ]
     },
     "metadata": {},
     "output_type": "display_data"
    }
   ],
   "source": [
    "CREATE OR REPLACE TABLE people AS (\n",
    "    SELECT \n",
    "        range as id,\n",
    "        oversample('families', 'id') as family_id,\n",
    "        faker_first_name() as person_name,\n",
    "        random_randint(1, 90) as person_age\n",
    "    FROM range(per_county(100000))\n",
    ");"
   ]
  },
  {
   "cell_type": "code",
   "execution_count": 2,
   "id": "4a3e7a61-3b1e-449f-97e3-cd01aba18173",
   "metadata": {},
   "outputs": [
    {
     "data": {
      "text/html": [
       "<table border=\"1\" class=\"dataframe\">\n",
       "  <thead>\n",
       "    <tr style=\"text-align: right;\">\n",
       "      <th></th>\n",
       "      <th>Count</th>\n",
       "    </tr>\n",
       "  </thead>\n",
       "  <tbody>\n",
       "    <tr>\n",
       "      <th>0</th>\n",
       "      <td>0</td>\n",
       "    </tr>\n",
       "  </tbody>\n",
       "</table>"
      ],
      "text/plain": [
       "   Count\n",
       "0      0"
      ]
     },
     "metadata": {},
     "output_type": "display_data"
    }
   ],
   "source": [
    "COPY (SELECT * EXCLUDE (id, country_id, county_id, town_id, street_id, address_id, incode, outcode, prefix), concat(outcode, ' ', incode) as postcode FROM countries \n",
    "    JOIN counties ON countries.id = counties.country_id\n",
    "    JOIN towns ON counties.id = towns.county_id\n",
    "    JOIN streets ON towns.id = streets.town_id\n",
    "    JOIN addresses ON streets.id = addresses.street_id\n",
    "    JOIN families ON addresses.id = families.address_id\n",
    "    JOIN people on families.id = people.family_id\n",
    "    ORDER BY country, county_name, town_name, street_name, street_number, family_name, person_name) TO 'synthetic_people.csv' (FORMAT CSV, PARTITION_BY (country), OVERWRITE_OR_IGNORE 1);"
   ]
  },
  {
   "cell_type": "code",
   "execution_count": 8,
   "id": "4a05d09f-62cd-4375-82d1-dc935866c22e",
   "metadata": {},
   "outputs": [
    {
     "data": {
      "text/html": [
       "<table border=\"1\" class=\"dataframe\">\n",
       "  <thead>\n",
       "    <tr style=\"text-align: right;\">\n",
       "      <th></th>\n",
       "      <th>count(country_id)</th>\n",
       "    </tr>\n",
       "  </thead>\n",
       "  <tbody>\n",
       "    <tr>\n",
       "      <th>0</th>\n",
       "      <td>29</td>\n",
       "    </tr>\n",
       "    <tr>\n",
       "      <th>1</th>\n",
       "      <td>19</td>\n",
       "    </tr>\n",
       "    <tr>\n",
       "      <th>2</th>\n",
       "      <td>28</td>\n",
       "    </tr>\n",
       "    <tr>\n",
       "      <th>3</th>\n",
       "      <td>27</td>\n",
       "    </tr>\n",
       "  </tbody>\n",
       "</table>"
      ],
      "text/plain": [
       "   count(country_id)\n",
       "0                 29\n",
       "1                 19\n",
       "2                 28\n",
       "3                 27"
      ]
     },
     "metadata": {},
     "output_type": "display_data"
    }
   ],
   "source": []
  },
  {
   "cell_type": "code",
   "execution_count": null,
   "id": "9999788f-869c-457e-80f4-268f766a58df",
   "metadata": {},
   "outputs": [],
   "source": []
  }
 ],
 "metadata": {
  "kernelspec": {
   "display_name": "Decoy",
   "language": "sql",
   "name": "decoy"
  },
  "language_info": {
   "file_extension": ".sql",
   "mimetype": "application/sql",
   "name": "SQL"
  }
 },
 "nbformat": 4,
 "nbformat_minor": 5
}
