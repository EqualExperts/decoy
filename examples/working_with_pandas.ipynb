{
 "cells": [
  {
   "cell_type": "markdown",
   "id": "6f311115-4a4e-4c83-82f1-508ff1f999a5",
   "metadata": {},
   "source": [
    "# Integrating Decoy and Pandas\n",
    "\n",
    "Pandas is a well-utilized data manipulation tool used heavily in data science applications.\n",
    "\n",
    "Pandas also contains powerful data manipulation tools, providing additional functionality which would be difficult with SQL.\n"
   ]
  },
  {
   "cell_type": "code",
   "execution_count": 1,
   "id": "7fac04a3-10b3-407a-8355-d3f9b1c080ca",
   "metadata": {},
   "outputs": [],
   "source": [
    "import pandas as pd\n",
    "\n",
    "# create a database connection that can be accessed in Python\n",
    "from decoy.database import get_connection \n",
    "con = get_connection()"
   ]
  },
  {
   "cell_type": "code",
   "execution_count": 5,
   "id": "85de94cc-a0b7-471b-8301-8dfbf2458923",
   "metadata": {},
   "outputs": [
    {
     "data": {
      "text/html": [
       "<div>\n",
       "<style scoped>\n",
       "    .dataframe tbody tr th:only-of-type {\n",
       "        vertical-align: middle;\n",
       "    }\n",
       "\n",
       "    .dataframe tbody tr th {\n",
       "        vertical-align: top;\n",
       "    }\n",
       "\n",
       "    .dataframe thead th {\n",
       "        text-align: right;\n",
       "    }\n",
       "</style>\n",
       "<table border=\"1\" class=\"dataframe\">\n",
       "  <thead>\n",
       "    <tr style=\"text-align: right;\">\n",
       "      <th></th>\n",
       "      <th>faker_name()</th>\n",
       "    </tr>\n",
       "  </thead>\n",
       "  <tbody>\n",
       "    <tr>\n",
       "      <th>0</th>\n",
       "      <td>Ryan Smith-Williams</td>\n",
       "    </tr>\n",
       "    <tr>\n",
       "      <th>1</th>\n",
       "      <td>Tom Williams</td>\n",
       "    </tr>\n",
       "    <tr>\n",
       "      <th>2</th>\n",
       "      <td>Dr Conor Grant</td>\n",
       "    </tr>\n",
       "    <tr>\n",
       "      <th>3</th>\n",
       "      <td>Dawn Berry</td>\n",
       "    </tr>\n",
       "    <tr>\n",
       "      <th>4</th>\n",
       "      <td>Mr Charlie Smith</td>\n",
       "    </tr>\n",
       "    <tr>\n",
       "      <th>5</th>\n",
       "      <td>Jennifer Walker</td>\n",
       "    </tr>\n",
       "    <tr>\n",
       "      <th>6</th>\n",
       "      <td>Raymond Mann</td>\n",
       "    </tr>\n",
       "    <tr>\n",
       "      <th>7</th>\n",
       "      <td>Hugh Green</td>\n",
       "    </tr>\n",
       "    <tr>\n",
       "      <th>8</th>\n",
       "      <td>Sally Evans</td>\n",
       "    </tr>\n",
       "    <tr>\n",
       "      <th>9</th>\n",
       "      <td>Katie Fletcher</td>\n",
       "    </tr>\n",
       "    <tr>\n",
       "      <th>10</th>\n",
       "      <td>Adam Reid-Jackson</td>\n",
       "    </tr>\n",
       "    <tr>\n",
       "      <th>11</th>\n",
       "      <td>Lesley Scott</td>\n",
       "    </tr>\n",
       "    <tr>\n",
       "      <th>12</th>\n",
       "      <td>Janet Kelly</td>\n",
       "    </tr>\n",
       "    <tr>\n",
       "      <th>13</th>\n",
       "      <td>Heather Bradley</td>\n",
       "    </tr>\n",
       "    <tr>\n",
       "      <th>14</th>\n",
       "      <td>Lawrence Harding</td>\n",
       "    </tr>\n",
       "  </tbody>\n",
       "</table>\n",
       "</div>"
      ],
      "text/plain": [
       "           faker_name()\n",
       "0   Ryan Smith-Williams\n",
       "1          Tom Williams\n",
       "2        Dr Conor Grant\n",
       "3            Dawn Berry\n",
       "4      Mr Charlie Smith\n",
       "5       Jennifer Walker\n",
       "6          Raymond Mann\n",
       "7            Hugh Green\n",
       "8           Sally Evans\n",
       "9        Katie Fletcher\n",
       "10    Adam Reid-Jackson\n",
       "11         Lesley Scott\n",
       "12          Janet Kelly\n",
       "13      Heather Bradley\n",
       "14     Lawrence Harding"
      ]
     },
     "execution_count": 5,
     "metadata": {},
     "output_type": "execute_result"
    }
   ],
   "source": [
    "fake_names = con.sql('select faker_name() from range(15);').fetchdf()\n",
    "\n",
    "#in Jupyter you can easily display data by just calling it - as long as it's the last thing you do in a cell.\n",
    "fake_names"
   ]
  },
  {
   "cell_type": "markdown",
   "id": "d63fdb24-2fc7-4759-a928-ffb18a094071",
   "metadata": {},
   "source": [
    "This will create a table in DuckDB called fake_names, which you can call with further decoy fuctions"
   ]
  },
  {
   "cell_type": "code",
   "execution_count": 6,
   "id": "2d216fd8-c9b6-42a5-972b-1242f965b426",
   "metadata": {},
   "outputs": [
    {
     "data": {
      "text/plain": [
       "┌─────────────────────┐\n",
       "│    faker_name()     │\n",
       "│       varchar       │\n",
       "├─────────────────────┤\n",
       "│ Ryan Smith-Williams │\n",
       "│ Tom Williams        │\n",
       "│ Dr Conor Grant      │\n",
       "│ Dawn Berry          │\n",
       "│ Mr Charlie Smith    │\n",
       "│ Jennifer Walker     │\n",
       "│ Raymond Mann        │\n",
       "│ Hugh Green          │\n",
       "│ Sally Evans         │\n",
       "│ Katie Fletcher      │\n",
       "│ Adam Reid-Jackson   │\n",
       "│ Lesley Scott        │\n",
       "│ Janet Kelly         │\n",
       "│ Heather Bradley     │\n",
       "│ Lawrence Harding    │\n",
       "├─────────────────────┤\n",
       "│       15 rows       │\n",
       "└─────────────────────┘"
      ]
     },
     "execution_count": 6,
     "metadata": {},
     "output_type": "execute_result"
    }
   ],
   "source": [
    "con.sql('select * from fake_names')"
   ]
  },
  {
   "cell_type": "markdown",
   "id": "f2c3e018-795b-4532-9d7d-1618d45604fc",
   "metadata": {},
   "source": [
    "this allows you to create synthetic data in a more pythonic way.\n",
    "\n",
    "Now let's show some basic data manipulation in pandas"
   ]
  },
  {
   "cell_type": "code",
   "execution_count": 18,
   "id": "50e52bfa-b7e2-4102-a695-e328bd7c9531",
   "metadata": {},
   "outputs": [
    {
     "data": {
      "text/html": [
       "<div>\n",
       "<style scoped>\n",
       "    .dataframe tbody tr th:only-of-type {\n",
       "        vertical-align: middle;\n",
       "    }\n",
       "\n",
       "    .dataframe tbody tr th {\n",
       "        vertical-align: top;\n",
       "    }\n",
       "\n",
       "    .dataframe thead th {\n",
       "        text-align: right;\n",
       "    }\n",
       "</style>\n",
       "<table border=\"1\" class=\"dataframe\">\n",
       "  <thead>\n",
       "    <tr style=\"text-align: right;\">\n",
       "      <th></th>\n",
       "      <th>faker_name()</th>\n",
       "      <th>first_letter</th>\n",
       "    </tr>\n",
       "  </thead>\n",
       "  <tbody>\n",
       "    <tr>\n",
       "      <th>0</th>\n",
       "      <td>Ryan Smith-Williams</td>\n",
       "      <td>R</td>\n",
       "    </tr>\n",
       "    <tr>\n",
       "      <th>1</th>\n",
       "      <td>Tom Williams</td>\n",
       "      <td>T</td>\n",
       "    </tr>\n",
       "    <tr>\n",
       "      <th>2</th>\n",
       "      <td>Dr Conor Grant</td>\n",
       "      <td>D</td>\n",
       "    </tr>\n",
       "    <tr>\n",
       "      <th>3</th>\n",
       "      <td>Dawn Berry</td>\n",
       "      <td>D</td>\n",
       "    </tr>\n",
       "    <tr>\n",
       "      <th>4</th>\n",
       "      <td>Mr Charlie Smith</td>\n",
       "      <td>M</td>\n",
       "    </tr>\n",
       "    <tr>\n",
       "      <th>5</th>\n",
       "      <td>Jennifer Walker</td>\n",
       "      <td>J</td>\n",
       "    </tr>\n",
       "    <tr>\n",
       "      <th>6</th>\n",
       "      <td>Raymond Mann</td>\n",
       "      <td>R</td>\n",
       "    </tr>\n",
       "    <tr>\n",
       "      <th>7</th>\n",
       "      <td>Hugh Green</td>\n",
       "      <td>H</td>\n",
       "    </tr>\n",
       "    <tr>\n",
       "      <th>8</th>\n",
       "      <td>Sally Evans</td>\n",
       "      <td>S</td>\n",
       "    </tr>\n",
       "    <tr>\n",
       "      <th>9</th>\n",
       "      <td>Katie Fletcher</td>\n",
       "      <td>K</td>\n",
       "    </tr>\n",
       "    <tr>\n",
       "      <th>10</th>\n",
       "      <td>Adam Reid-Jackson</td>\n",
       "      <td>A</td>\n",
       "    </tr>\n",
       "    <tr>\n",
       "      <th>11</th>\n",
       "      <td>Lesley Scott</td>\n",
       "      <td>L</td>\n",
       "    </tr>\n",
       "    <tr>\n",
       "      <th>12</th>\n",
       "      <td>Janet Kelly</td>\n",
       "      <td>J</td>\n",
       "    </tr>\n",
       "    <tr>\n",
       "      <th>13</th>\n",
       "      <td>Heather Bradley</td>\n",
       "      <td>H</td>\n",
       "    </tr>\n",
       "    <tr>\n",
       "      <th>14</th>\n",
       "      <td>Lawrence Harding</td>\n",
       "      <td>L</td>\n",
       "    </tr>\n",
       "  </tbody>\n",
       "</table>\n",
       "</div>"
      ],
      "text/plain": [
       "           faker_name() first_letter\n",
       "0   Ryan Smith-Williams            R\n",
       "1          Tom Williams            T\n",
       "2        Dr Conor Grant            D\n",
       "3            Dawn Berry            D\n",
       "4      Mr Charlie Smith            M\n",
       "5       Jennifer Walker            J\n",
       "6          Raymond Mann            R\n",
       "7            Hugh Green            H\n",
       "8           Sally Evans            S\n",
       "9        Katie Fletcher            K\n",
       "10    Adam Reid-Jackson            A\n",
       "11         Lesley Scott            L\n",
       "12          Janet Kelly            J\n",
       "13      Heather Bradley            H\n",
       "14     Lawrence Harding            L"
      ]
     },
     "execution_count": 18,
     "metadata": {},
     "output_type": "execute_result"
    }
   ],
   "source": [
    "fake_names['first_letter'] = fake_names['faker_name()'].str[0]\n",
    "fake_names"
   ]
  },
  {
   "cell_type": "code",
   "execution_count": 17,
   "id": "5edc045f-5e54-42ff-864f-a0bfd144079d",
   "metadata": {},
   "outputs": [
    {
     "data": {
      "text/plain": [
       "┌─────────────────────┬──────────────┐\n",
       "│    faker_name()     │ first_letter │\n",
       "│       varchar       │   varchar    │\n",
       "├─────────────────────┼──────────────┤\n",
       "│ Ryan Smith-Williams │ R            │\n",
       "│ Tom Williams        │ T            │\n",
       "│ Dr Conor Grant      │ D            │\n",
       "│ Dawn Berry          │ D            │\n",
       "│ Mr Charlie Smith    │ M            │\n",
       "│ Jennifer Walker     │ J            │\n",
       "│ Raymond Mann        │ R            │\n",
       "│ Hugh Green          │ H            │\n",
       "│ Sally Evans         │ S            │\n",
       "│ Katie Fletcher      │ K            │\n",
       "│ Adam Reid-Jackson   │ A            │\n",
       "│ Lesley Scott        │ L            │\n",
       "│ Janet Kelly         │ J            │\n",
       "│ Heather Bradley     │ H            │\n",
       "│ Lawrence Harding    │ L            │\n",
       "├─────────────────────┴──────────────┤\n",
       "│ 15 rows                  2 columns │\n",
       "└────────────────────────────────────┘"
      ]
     },
     "execution_count": 17,
     "metadata": {},
     "output_type": "execute_result"
    }
   ],
   "source": [
    "con.sql('select * from fake_names')"
   ]
  },
  {
   "cell_type": "markdown",
   "id": "200775a6-e05e-42d8-9a07-99065f10cceb",
   "metadata": {},
   "source": [
    "The table automatically updates in DuckDB"
   ]
  }
 ],
 "metadata": {
  "kernelspec": {
   "display_name": "Python 3 (ipykernel)",
   "language": "python",
   "name": "python3"
  },
  "language_info": {
   "codemirror_mode": {
    "name": "ipython",
    "version": 3
   },
   "file_extension": ".py",
   "mimetype": "text/x-python",
   "name": "python",
   "nbconvert_exporter": "python",
   "pygments_lexer": "ipython3",
   "version": "3.11.4"
  }
 },
 "nbformat": 4,
 "nbformat_minor": 5
}
