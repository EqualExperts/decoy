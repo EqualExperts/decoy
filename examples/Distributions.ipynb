{
 "cells": [
  {
   "cell_type": "markdown",
   "id": "af0b92db-f8df-486b-95b7-9e1f17236352",
   "metadata": {},
   "source": [
    "# Generating Distributions\n",
    "\n",
    "Decoy can utilize both [Numpy Random](https://numpy.org/doc/stable/reference/random/legacy.html) and [Python's Random] (https://python.readthedocs.io/en/stable/library/random.html) to generate distributions of data.\n",
    "\n",
    "This notebook is there to help showcase the different ways you could use distributions in your synthetic data."
   ]
  },
  {
   "cell_type": "code",
   "execution_count": null,
   "id": "43cb259c-10b1-425a-9cf6-311abd22720e",
   "metadata": {},
   "outputs": [],
   "source": []
  }
 ],
 "metadata": {
  "kernelspec": {
   "display_name": "Python 3 (ipykernel)",
   "language": "python",
   "name": "python3"
  },
  "language_info": {
   "codemirror_mode": {
    "name": "ipython",
    "version": 3
   },
   "file_extension": ".py",
   "mimetype": "text/x-python",
   "name": "python",
   "nbconvert_exporter": "python",
   "pygments_lexer": "ipython3",
   "version": "3.11.4"
  }
 },
 "nbformat": 4,
 "nbformat_minor": 5
}
