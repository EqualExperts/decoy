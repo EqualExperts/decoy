{
 "cells": [
  {
   "cell_type": "code",
   "execution_count": null,
   "id": "4e1f50ea-48c2-44fe-aab5-4924a9cadec5",
   "metadata": {},
   "outputs": [],
   "source": [
    "SELECT\n",
    "  faker_en('name') as name,\n",
    "  faker_en('address') as address\n",
    "FROM range(1000);"
   ]
  },
  {
   "cell_type": "code",
   "execution_count": null,
   "id": "db4373a1-a41a-4754-88c2-47e6f21ffb4c",
   "metadata": {},
   "outputs": [],
   "source": []
  }
 ],
 "metadata": {
  "kernelspec": {
   "display_name": "Decoy",
   "language": "",
   "name": "decoy"
  },
  "language_info": {
   "name": ""
  }
 },
 "nbformat": 4,
 "nbformat_minor": 5
}
