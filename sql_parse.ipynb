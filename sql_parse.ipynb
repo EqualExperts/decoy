{
 "cells": [
  {
   "cell_type": "code",
   "execution_count": 1,
   "metadata": {},
   "outputs": [],
   "source": [
    "test_sql = 'CREATE TABLE companies(id BIGINT, company_name VARCHAR, description VARCHAR);;'"
   ]
  },
  {
   "cell_type": "code",
   "execution_count": 14,
   "metadata": {},
   "outputs": [],
   "source": [
    "def get_tablename(sql_query):\n",
    "    return sql_query.split('CREATE TABLE ')[1].split('(')[0]\n",
    "\n",
    "def get_table_fields(sql_query):\n",
    "    fields = sql_query.split('(')[1].split(')')[0]\n",
    "    return [x for x in fields.split(', ')]\n",
    "\n",
    "def convert_sqltype_to_generator(default_generators, dtype):\n",
    "    try:\n",
    "        return default_generators[dtype]\n",
    "    except:\n",
    "        return default_generators['UNKNOWN']\n",
    "\n",
    "def convert_fields_to_generator(default_generators, fields):\n",
    "    column_statement = ''\n",
    "    len_fields = len(fields) -1\n",
    "    for i in enumerate(fields):\n",
    "        name, dtype = i[1].split(' ')\n",
    "        dtype = convert_sqltype_to_generator(default_generators, dtype)\n",
    "        column_statement += f'{dtype} as {name},'\n",
    "        if i[0] < len_fields:\n",
    "            column_statement += '\\n'\n",
    "    return column_statement\n",
    "\n",
    "def construct_sql_generator(default_generators, sql_query, nrows):\n",
    "    table_name = get_tablename(sql_query)\n",
    "    fields = get_table_fields(sql_query)\n",
    "    col_statement = convert_fields_to_generator(default_generators, fields)\n",
    "    return f\"\"\"CREATE OR REPLACE TABLE {table_name} AS \n",
    "(SELECT\\n{col_statement} \n",
    "FROM range({nrows}));\n",
    "\"\"\"\n",
    "\n",
    "def parse_full_sql_schema(input_filename, output_filename, nrows, default_generators= default_generators,):\n",
    "    with open(input_filename, 'r') as f:\n",
    "        with open(output_filename, 'w+') as filehandle:\n",
    "            for line in f.readlines():\n",
    "                filehandle.write(construct_sql_generator(default_generators, line, nrows))\n"
   ]
  },
  {
   "cell_type": "code",
   "execution_count": 15,
   "metadata": {},
   "outputs": [
    {
     "data": {
      "text/plain": [
       "\"faker_en('random_int') as id,\\nxeger('[a-zA-Z0-9]{6,}') as company_name,\\nxeger('[a-zA-Z0-9]{6,}') as description,\""
      ]
     },
     "execution_count": 15,
     "metadata": {},
     "output_type": "execute_result"
    }
   ],
   "source": [
    "fields = get_table_fields(test_sql)\n",
    "convert_fields_to_generator(default_generators, fields)"
   ]
  },
  {
   "cell_type": "code",
   "execution_count": 5,
   "metadata": {},
   "outputs": [
    {
     "data": {
      "text/plain": [
       "\"faker_en('random_int')\""
      ]
     },
     "execution_count": 5,
     "metadata": {},
     "output_type": "execute_result"
    }
   ],
   "source": [
    "default_generators = {\n",
    "    'BIGINT': \"faker_en('random_int')\",\n",
    "    'VARCHAR': \"xeger('[a-zA-Z0-9]{6,}')\",\n",
    "    'UNKNOWN': \"xeger('[a-zA-Z0-9]{6,}')\",\n",
    "\n",
    "}\n",
    "\n",
    "default_generators['BIGINT']"
   ]
  },
  {
   "cell_type": "code",
   "execution_count": 16,
   "metadata": {},
   "outputs": [],
   "source": [
    "parse_full_sql_schema('./examples/test_schema.sql', 'test_generator.sql', 45)"
   ]
  },
  {
   "cell_type": "code",
   "execution_count": 71,
   "metadata": {},
   "outputs": [
    {
     "name": "stdout",
     "output_type": "stream",
     "text": [
      "('CREATE OR REPLACE TABLE companies AS \\n'\n",
      " '(SELECT\\n'\n",
      " 'BIGINT as id,\\n'\n",
      " 'VARCHAR as company_name,\\n'\n",
      " 'VARCHAR as description, \\n'\n",
      " 'FROM range(10));')\n"
     ]
    }
   ],
   "source": [
    "import pprint\n",
    "\n",
    "pp = pprint.PrettyPrinter(indent=4)\n",
    "pp.pprint(construct_sql_generator(test_sql, 10))"
   ]
  },
  {
   "cell_type": "code",
   "execution_count": 72,
   "metadata": {},
   "outputs": [],
   "source": [
    "filename = \"test_generator.sql\"\n",
    "with open(filename, 'w+') as filehandle:\n",
    "    filehandle.write(construct_sql_generator(test_sql, 100))"
   ]
  },
  {
   "cell_type": "code",
   "execution_count": null,
   "metadata": {},
   "outputs": [],
   "source": []
  }
 ],
 "metadata": {
  "kernelspec": {
   "display_name": "Python 3",
   "language": "python",
   "name": "python3"
  },
  "language_info": {
   "codemirror_mode": {
    "name": "ipython",
    "version": 3
   },
   "file_extension": ".py",
   "mimetype": "text/x-python",
   "name": "python",
   "nbconvert_exporter": "python",
   "pygments_lexer": "ipython3",
   "version": "3.11.3"
  },
  "orig_nbformat": 4
 },
 "nbformat": 4,
 "nbformat_minor": 2
}
