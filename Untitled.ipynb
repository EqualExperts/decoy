{
 "cells": [
  {
   "cell_type": "code",
   "execution_count": 1,
   "id": "a2f4012b-fda4-4e06-8e98-829e740e98b7",
   "metadata": {},
   "outputs": [
    {
     "data": {
      "text/plain": [
       "0.16855955862810137"
      ]
     },
     "execution_count": 1,
     "metadata": {},
     "output_type": "execute_result"
    }
   ],
   "source": [
    "import random\n",
    "\n",
    "random.betavariate(1.6, 5.6)"
   ]
  },
  {
   "cell_type": "code",
   "execution_count": 6,
   "id": "adfc8f09-b6ce-4595-9f08-559abf5b69ea",
   "metadata": {},
   "outputs": [
    {
     "data": {
      "text/plain": [
       "[1, 2, 3]"
      ]
     },
     "execution_count": 6,
     "metadata": {},
     "output_type": "execute_result"
    }
   ],
   "source": [
    "x = list((1,2,3))\n",
    "x"
   ]
  },
  {
   "cell_type": "code",
   "execution_count": 7,
   "id": "266b0ea2-2bbf-42ff-9c95-3cc95b951ef2",
   "metadata": {},
   "outputs": [
    {
     "data": {
      "text/plain": [
       "list"
      ]
     },
     "execution_count": 7,
     "metadata": {},
     "output_type": "execute_result"
    }
   ],
   "source": [
    "type(x)"
   ]
  },
  {
   "cell_type": "code",
   "execution_count": 26,
   "id": "0875315b-7bde-411b-96f3-5f265ef40b7c",
   "metadata": {},
   "outputs": [
    {
     "data": {
      "text/plain": [
       "4.5414063671960285"
      ]
     },
     "execution_count": 26,
     "metadata": {},
     "output_type": "execute_result"
    }
   ],
   "source": [
    "random.triangular(2.1, 7.4, 2.3)"
   ]
  },
  {
   "cell_type": "code",
   "execution_count": null,
   "id": "c66f222e-6214-4d8d-9403-7ab1f9b8abf1",
   "metadata": {},
   "outputs": [],
   "source": []
  }
 ],
 "metadata": {
  "kernelspec": {
   "display_name": "Python 3 (ipykernel)",
   "language": "python",
   "name": "python3"
  },
  "language_info": {
   "codemirror_mode": {
    "name": "ipython",
    "version": 3
   },
   "file_extension": ".py",
   "mimetype": "text/x-python",
   "name": "python",
   "nbconvert_exporter": "python",
   "pygments_lexer": "ipython3",
   "version": "3.11.3"
  }
 },
 "nbformat": 4,
 "nbformat_minor": 5
}
