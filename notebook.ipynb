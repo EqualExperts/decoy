{
 "cells": [
  {
   "cell_type": "code",
   "execution_count": null,
   "id": "4e1f50ea-48c2-44fe-aab5-4924a9cadec5",
   "metadata": {},
   "outputs": [],
   "source": [
    "CREATE OR REPLACE TABLE companies AS (\n",
    "    SELECT\n",
    "        range as id,\n",
    "        faker_en('company') as company_name,\n",
    "        faker_en('catch_phrase') as description\n",
    "    FROM range(10)\n",
    ");"
   ]
  },
  {
   "cell_type": "code",
   "execution_count": null,
   "id": "db4373a1-a41a-4754-88c2-47e6f21ffb4c",
   "metadata": {},
   "outputs": [],
   "source": [
    "CREATE OR REPLACE TABLE people AS (\n",
    "    SELECT\n",
    "        range as id,\n",
    "        oversample('companies', 'id') as company_id,\n",
    "        faker_en('name') as full_name,\n",
    "        faker_en('date_of_birth') as dob,\n",
    "        faker_en('passport_number') as passport_number,\n",
    "    FROM range(100)\n",
    ");"
   ]
  },
  {
   "cell_type": "code",
   "execution_count": null,
   "id": "9cb5b1d8-f4f2-4a30-b0f7-c9eedbe17d2f",
   "metadata": {},
   "outputs": [],
   "source": [
    "SELECT * FROM people JOIN companies on people.company_id = companies.id"
   ]
  }
 ],
 "metadata": {
  "kernelspec": {
   "display_name": "Decoy",
   "language": "sql",
   "name": "decoy"
  },
  "language_info": {
   "name": ""
  }
 },
 "nbformat": 4,
 "nbformat_minor": 5
}
